{
 "cells": [
  {
   "cell_type": "markdown",
   "source": [
    "# Pain Data Restructuring\n",
    "This notebook prepares the pain dataset to be able to successfully use it with the federated-machine-learning repository.\n"
   ],
   "metadata": {
    "collapsed": false,
    "pycharm": {
     "name": "#%% md\n"
    }
   },
   "outputs": [
    {
     "ename": "SyntaxError",
     "evalue": "invalid syntax (<ipython-input-1-f425fb059035>, line 2)",
     "output_type": "error",
     "traceback": [
      "\u001B[1;36m  File \u001B[1;32m\"<ipython-input-1-f425fb059035>\"\u001B[1;36m, line \u001B[1;32m2\u001B[0m\n\u001B[1;33m    This notebook prepares the pain dataset in to be able to successfully train a convolutional neural network. Data augmentation techniques such as greyscaling, histogram equalization, etc. are employed.\u001B[0m\n\u001B[1;37m                ^\u001B[0m\n\u001B[1;31mSyntaxError\u001B[0m\u001B[1;31m:\u001B[0m invalid syntax\n"
     ]
    }
   ],
   "execution_count": 1
  },
  {
   "cell_type": "code",
   "execution_count": 1,
   "outputs": [
    {
     "name": "stderr",
     "output_type": "stream",
     "text": [
      "C:\\ProgramData\\Anaconda3\\envs\\federated-machine-learning-new\\lib\\site-packages\\tensorboard\\compat\\tensorflow_stub\\dtypes.py:541: FutureWarning: Passing (type, 1) or '1type' as a synonym of type is deprecated; in a future version of numpy, it will be understood as (type, (1,)) / '(1,)type'.\n",
      "  _np_qint8 = np.dtype([(\"qint8\", np.int8, 1)])\n",
      "C:\\ProgramData\\Anaconda3\\envs\\federated-machine-learning-new\\lib\\site-packages\\tensorboard\\compat\\tensorflow_stub\\dtypes.py:542: FutureWarning: Passing (type, 1) or '1type' as a synonym of type is deprecated; in a future version of numpy, it will be understood as (type, (1,)) / '(1,)type'.\n",
      "  _np_quint8 = np.dtype([(\"quint8\", np.uint8, 1)])\n",
      "C:\\ProgramData\\Anaconda3\\envs\\federated-machine-learning-new\\lib\\site-packages\\tensorboard\\compat\\tensorflow_stub\\dtypes.py:543: FutureWarning: Passing (type, 1) or '1type' as a synonym of type is deprecated; in a future version of numpy, it will be understood as (type, (1,)) / '(1,)type'.\n",
      "  _np_qint16 = np.dtype([(\"qint16\", np.int16, 1)])\n",
      "C:\\ProgramData\\Anaconda3\\envs\\federated-machine-learning-new\\lib\\site-packages\\tensorboard\\compat\\tensorflow_stub\\dtypes.py:544: FutureWarning: Passing (type, 1) or '1type' as a synonym of type is deprecated; in a future version of numpy, it will be understood as (type, (1,)) / '(1,)type'.\n",
      "  _np_quint16 = np.dtype([(\"quint16\", np.uint16, 1)])\n",
      "C:\\ProgramData\\Anaconda3\\envs\\federated-machine-learning-new\\lib\\site-packages\\tensorboard\\compat\\tensorflow_stub\\dtypes.py:545: FutureWarning: Passing (type, 1) or '1type' as a synonym of type is deprecated; in a future version of numpy, it will be understood as (type, (1,)) / '(1,)type'.\n",
      "  _np_qint32 = np.dtype([(\"qint32\", np.int32, 1)])\n",
      "C:\\ProgramData\\Anaconda3\\envs\\federated-machine-learning-new\\lib\\site-packages\\tensorboard\\compat\\tensorflow_stub\\dtypes.py:550: FutureWarning: Passing (type, 1) or '1type' as a synonym of type is deprecated; in a future version of numpy, it will be understood as (type, (1,)) / '(1,)type'.\n",
      "  np_resource = np.dtype([(\"resource\", np.ubyte, 1)])\n"
     ]
    }
   ],
   "source": [
    "import shutil\n",
    "import sys\n",
    "import os\n",
    "\n",
    "from Scripts.Data_Loader_Functions import get_user_number, get_frame_number, get_session_id, \\\n",
    "    get_user_number_from_filename, read_pain_score_from_file, get_filename_without_extension\n",
    "\n",
    "module_path = os.path.abspath(os.path.join('..'))\n",
    "if module_path not in sys.path:\n",
    "    sys.path.append(module_path)\n",
    "\n",
    "INPUT_DATA = os.path.join(module_path, \"Data\", \"Input Data\")\n",
    "RAW_DATA = os.path.join(module_path, \"Data\", \"Raw Data\")\n",
    "\n"
   ],
   "metadata": {
    "collapsed": false,
    "pycharm": {
     "name": "#%%\n"
    }
   }
  },
  {
   "cell_type": "code",
   "execution_count": 2,
   "outputs": [],
   "source": [
    "pain_scores = {}\n",
    "for dir_path, dir_names, filenames in os.walk(INPUT_DATA):\n",
    "    if filenames and \"PSPI\" in dir_path:\n",
    "        pain_scores_tempt = { get_filename_without_extension(filenames[i]) : read_pain_score_from_file(os.path.join(dir_path,filenames[i])) for i in range(0, len(filenames) ) }\n",
    "        pain_scores.update(pain_scores_tempt)"
   ],
   "metadata": {
    "collapsed": false,
    "pycharm": {
     "name": "#%% Get pain scores per image\n"
    }
   }
  },
  {
   "cell_type": "code",
   "execution_count": 3,
   "outputs": [
    {
     "name": "stdout",
     "output_type": "stream",
     "text": [
      "End of input data restructuring...\n"
     ]
    }
   ],
   "source": [
    "# Required format:\n",
    "# \"43_0_0_0_2.jpg\", where:\n",
    "# [person, session, culture, frame, pain_level]\n",
    "# iteration 2 gets the user folders\n",
    "# iteration 3+ gets the user sessions and user frames per session\n",
    "iteration = 1\n",
    "for dir_path, dir_names, filenames in os.walk(INPUT_DATA):\n",
    "    # print(\"{} {} {}\".format(dir_path, dir_names, filenames))\n",
    "    if iteration == 2: # get user directories\n",
    "        users = { get_user_number(dir_names[i]) : dir_names[i] for i in range(0, len(dir_names) ) }\n",
    "    if iteration >= 3: # get session directories and filenames\n",
    "        if not filenames and \"Images\" in dir_path: # get session directories\n",
    "            sessions = { dir_names[i] : i for i in range(0, len(dir_names) ) }\n",
    "            users[get_user_number(dir_path)] = sessions\n",
    "        elif \"Images\" in dir_path: # get image filenames\n",
    "            frames = {get_session_id(filenames[0]) : get_frame_number(filenames[i]) for i in range(0, len(filenames) ) }\n",
    "            # get the pain scores first\n",
    "            for filename in filenames:\n",
    "                try:\n",
    "                    new_filename = \"{}_{}_0_{}_{}.png\"\\\n",
    "                        .format(get_user_number_from_filename(filename),\n",
    "                                sessions[get_session_id(filename)],\n",
    "                                get_frame_number(filename),\n",
    "                                pain_scores[get_filename_without_extension(filename)])\n",
    "                    new_filepath = os.path.join(RAW_DATA, new_filename)\n",
    "                    old_filepath = os.path.join(dir_path, filename)\n",
    "                    shutil.copy(old_filepath, new_filepath)\n",
    "                except:\n",
    "                    continue\n",
    "    iteration += 1\n",
    "print(\"End of input data restructuring...\")"
   ],
   "metadata": {
    "collapsed": false,
    "pycharm": {
     "name": "#%% Copy and rename each frame based on the required format\n"
    }
   }
  },
  {
   "cell_type": "code",
   "execution_count": 3,
   "outputs": [],
   "source": [],
   "metadata": {
    "collapsed": false,
    "pycharm": {
     "name": "#%%\n"
    }
   }
  },
  {
   "cell_type": "code",
   "execution_count": 3,
   "outputs": [],
   "source": [],
   "metadata": {
    "collapsed": false,
    "pycharm": {
     "name": "#%%\n"
    }
   }
  }
 ],
 "metadata": {
  "kernelspec": {
   "name": "federated-machine-learning-new",
   "language": "python",
   "display_name": "Python (federated-machine-learning-new)"
  },
  "language_info": {
   "codemirror_mode": {
    "name": "ipython",
    "version": 2
   },
   "file_extension": ".py",
   "mimetype": "text/x-python",
   "name": "python",
   "nbconvert_exporter": "python",
   "pygments_lexer": "ipython2",
   "version": "2.7.6"
  }
 },
 "nbformat": 4,
 "nbformat_minor": 0
}